{
 "cells": [
  {
   "cell_type": "code",
   "execution_count": null,
   "metadata": {
    "collapsed": true
   },
   "outputs": [],
   "source": [
    "#module file defination\n",
    "\"\"\"mymath - our example math module\"\"\"\n",
    "pi = 3.14159\n",
    "def area(r):\n",
    "    \"\"\"area(r): return the area of a circle with radius r.\"\"\"\n",
    "    global pi\n",
    "    return(pi * r * r)\n",
    "\n",
    "# write Fibonacci series up to n \n",
    "def fib(n):\n",
    "    a, b = 0, 1 \n",
    "    while b < n:\n",
    "        print (b)\n",
    "        a, b = b, a+b   #tuple\n",
    "print (\"=========================================================\")\n",
    "if __name__  == \"__main__\":   #this is True if this current module file is executed on its own\n",
    "    fib(21)\n",
    "    print  (area(5))\n",
    "print (\"=========================================================\")\n"
   ]
  },
  {
   "cell_type": "code",
   "execution_count": null,
   "metadata": {
    "collapsed": true
   },
   "outputs": [],
   "source": []
  },
  {
   "cell_type": "code",
   "execution_count": 2,
   "metadata": {
    "collapsed": true
   },
   "outputs": [],
   "source": []
  }
 ],
 "metadata": {
  "kernelspec": {
   "display_name": "Python 3",
   "language": "python",
   "name": "python3"
  },
  "language_info": {
   "codemirror_mode": {
    "name": "ipython",
    "version": 3
   },
   "file_extension": ".py",
   "mimetype": "text/x-python",
   "name": "python",
   "nbconvert_exporter": "python",
   "pygments_lexer": "ipython3",
   "version": "3.6.0"
  }
 },
 "nbformat": 4,
 "nbformat_minor": 2
}
